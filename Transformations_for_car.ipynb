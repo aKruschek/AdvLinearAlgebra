{
  "nbformat": 4,
  "nbformat_minor": 0,
  "metadata": {
    "colab": {
      "name": "Transformations for car",
      "provenance": [],
      "collapsed_sections": [],
      "include_colab_link": true
    },
    "kernelspec": {
      "name": "python3",
      "display_name": "Python 3"
    }
  },
  "cells": [
    {
      "cell_type": "markdown",
      "metadata": {
        "id": "view-in-github",
        "colab_type": "text"
      },
      "source": [
        "<a href=\"https://colab.research.google.com/github/aKruschek/AdvLinearAlgebra/blob/master/Transformations_for_car.ipynb\" target=\"_parent\"><img src=\"https://colab.research.google.com/assets/colab-badge.svg\" alt=\"Open In Colab\"/></a>"
      ]
    },
    {
      "cell_type": "code",
      "metadata": {
        "id": "ubqt1c0MDF-X",
        "colab_type": "code",
        "colab": {}
      },
      "source": [
        "import numpy as np\n",
        "import matplotlib.pyplot as plt"
      ],
      "execution_count": 0,
      "outputs": []
    },
    {
      "cell_type": "markdown",
      "metadata": {
        "id": "1nVTY4zaDNLG",
        "colab_type": "text"
      },
      "source": [
        "In this worksheet, we will generate matrix functions and use them to verify our solution to the car driving problem.\n",
        "The car will be represented by a vector $$\\vec{c} = \\left( \\begin{array}{c} x \\\\  y \\\\  1 \\\\ \\end{array} \\right)$$\n",
        "and the headlights will be represented by a vector\n",
        "$$ \\vec{l} = \\left( \\begin{array}{c} x \\\\ y \\\\ 1 \\\\ \\end{array} \\right)$$\n",
        "which will extend one unit in front of the car.\n",
        "\n",
        "We will use the car and light definition to practice function declarations.  To place the car at (3,0) on the x-axis, we could specify:"
      ]
    },
    {
      "cell_type": "code",
      "metadata": {
        "id": "_t_f3feYFzdY",
        "colab_type": "code",
        "outputId": "2349d655-8631-4a51-9a32-7b6f6f66bec9",
        "colab": {
          "base_uri": "https://localhost:8080/",
          "height": 178
        }
      },
      "source": [
        "#car = np.array([3,0,1]) \n",
        "#car = np.mat('3,0,1')\n",
        "#car = np.mat('3,0,1').T\n",
        "#car = np.matrix([[3],[0],[1]])\n",
        "\n",
        "car\n"
      ],
      "execution_count": 3,
      "outputs": [
        {
          "output_type": "error",
          "ename": "NameError",
          "evalue": "ignored",
          "traceback": [
            "\u001b[0;31m---------------------------------------------------------------------------\u001b[0m",
            "\u001b[0;31mNameError\u001b[0m                                 Traceback (most recent call last)",
            "\u001b[0;32m<ipython-input-3-69976cc82e05>\u001b[0m in \u001b[0;36m<module>\u001b[0;34m()\u001b[0m\n\u001b[1;32m      1\u001b[0m \u001b[0;34m\u001b[0m\u001b[0m\n\u001b[0;32m----> 2\u001b[0;31m \u001b[0mcar\u001b[0m\u001b[0;34m\u001b[0m\u001b[0;34m\u001b[0m\u001b[0m\n\u001b[0m",
            "\u001b[0;31mNameError\u001b[0m: name 'car' is not defined"
          ]
        }
      ]
    },
    {
      "cell_type": "markdown",
      "metadata": {
        "id": "OdtEsY3TETwL",
        "colab_type": "text"
      },
      "source": [
        "Instead, we will make it easy to specify where the car is by letting us define the car as a function of two inputs, the $x$ and $y$ location, like so:  $$location(x,y) = \\left( \\begin{array}{c} x \\\\ y \\\\ 1 \\\\  \\end{array} \\right)$$\n",
        "\n",
        "so that we can specify\n",
        "\n",
        "$$ car = location(3,0)   \\hspace{2cm} lights = location(3,1)$$\n",
        "\n",
        "by modifying the code block below:\n",
        "\n",
        "```\n",
        "def square(a):\n",
        "       \"\"\"Return the square of a.\"\"\"\n",
        "       return a ** 2\n",
        "```\n"
      ]
    },
    {
      "cell_type": "code",
      "metadata": {
        "id": "hHdMlbyMGZG3",
        "colab_type": "code",
        "colab": {}
      },
      "source": [
        "def location(a,b):\n",
        "       \"\"\"Create a vector at location [a,b,1]\"\"\"\n",
        "       return np.matrix([[a],[b],[1]])\n"
      ],
      "execution_count": 0,
      "outputs": []
    },
    {
      "cell_type": "code",
      "metadata": {
        "id": "OrmBpkI990FS",
        "colab_type": "code",
        "colab": {}
      },
      "source": [
        "#Verify that it works to define the car and the light direction:\n",
        "\n",
        "car = location(3,0)\n",
        "\n",
        "light = location(3,1)\n",
        "\n",
        "car"
      ],
      "execution_count": 0,
      "outputs": []
    },
    {
      "cell_type": "markdown",
      "metadata": {
        "id": "yZKKbf1UHaQw",
        "colab_type": "text"
      },
      "source": [
        "In your homework, you constructed several matrices by combining translation matrices and rotation matrices\n",
        "\n",
        "$$\n",
        "T_{c,d} = \\left( \\begin{array}{ccc} 1 & 0 & c \\\\ 0 & 1 & d \\\\ 0 & 0 & 1 \\\\ \\end{array} \\right) \\hspace{2cm} R_\\phi = \\left( \\begin{array}{ccc} \\cos \\phi & -\\sin \\phi & 0 \\\\ \\sin \\phi & \\cos \\phi & 0 \\\\ 0 & 0 & 1 \\\\ \\end{array} \\right)\n",
        "$$\n",
        "\n",
        "into complicated matrices which could rotate a car at a fixed position.  We're going to verify your results by combining matrices and checking the effect on the car's direction.\n",
        "\n",
        "First, let's define the two basic matrices $T(a,b)$ and $R(\\phi)$:"
      ]
    },
    {
      "cell_type": "code",
      "metadata": {
        "id": "WJAryfZ0FARN",
        "colab_type": "code",
        "colab": {}
      },
      "source": [
        "def T(c,d):\n",
        "  \"\"\"Return a 3x3 matrix which translates x by c and y by d\"\"\"\n",
        "  return np.matrix([[1,0,c], [0,1,d],[0,0,1]])\n",
        "\n",
        "def R(phi):\n",
        "  \"\"\"Return a 3x3 matrix which translates around the origin by angle phi\"\"\"\n",
        "  return np.matrix([[np.cos(np.deg2rad(phi)), -1*np.sin(np.deg2rad(phi)), 0], [np.sin(np.deg2rad(phi)), np.cos(np.deg2rad(phi)), 0], [0, 0, 1] ])"
      ],
      "execution_count": 0,
      "outputs": []
    },
    {
      "cell_type": "markdown",
      "metadata": {
        "id": "8DNVwH4RNDDR",
        "colab_type": "text"
      },
      "source": [
        "Be Careful!!!  Just because something looks like a matrix does not mean it is a matrix!!!   In your group, develop some tests to make sure we have the results we expect.  Each group contributes one idea:"
      ]
    },
    {
      "cell_type": "code",
      "metadata": {
        "id": "imccf5kBMx-Q",
        "colab_type": "code",
        "colab": {}
      },
      "source": [
        "T(3,4)*T(3,4)"
      ],
      "execution_count": 0,
      "outputs": []
    },
    {
      "cell_type": "markdown",
      "metadata": {
        "id": "EA9kTmUoRgHn",
        "colab_type": "text"
      },
      "source": [
        "Here's some documentation on the difference between arrays and matrices:\n",
        "\n",
        "https://docs.scipy.org/doc/numpy-1.13.0/reference/arrays.classes.html#index-0"
      ]
    },
    {
      "cell_type": "markdown",
      "metadata": {
        "id": "y4qNC33EOR9F",
        "colab_type": "text"
      },
      "source": [
        "We'll test the result  of the translations on our original car and light position, which moved the car from $(3,0)$ to $(3,0)$ but from pointing 'north' to pointing 'east'  (e.g. pointing toward $(4,0)$ to $(3,1)$  )\n",
        "\n",
        "\n"
      ]
    },
    {
      "cell_type": "code",
      "metadata": {
        "id": "JcgVR64fO8YV",
        "colab_type": "code",
        "colab": {}
      },
      "source": [
        "car = location(3,0)\n",
        "light = location(3,1)\n",
        "\n",
        "NewCar = T(3,3) * R(-90)* car\n",
        "NewLight = T(3,3) * R(-90)* light\n",
        "\n",
        "car[0,0]"
      ],
      "execution_count": 0,
      "outputs": []
    },
    {
      "cell_type": "code",
      "metadata": {
        "id": "SxXmwY_YQIlc",
        "colab_type": "code",
        "colab": {}
      },
      "source": [
        "ax = plt.axes()\n",
        "\n",
        "ax.arrow(car[0,0], car[1,0], NewCar[0,0] - car[0,0], NewCar[1,0]- car[1,0], head_width=0.5, head_length=0.5, fc='lightblue', ec='black')\n",
        "ax.arrow(car[0,0], car[1,0], light[0,0]-car[0,0], light[1,0]-car[1,0], head_width=0.5, head_length=0.5, fc='lightblue', ec='red')\n",
        "\n",
        "#New direction of lights\n",
        "ax.arrow(car[0,0], car[1,0], NewLight[0,0] - car[0,0], NewLight[1,0] - car[1,0], head_width=0.5, head_length=0.5, fc='lightblue', ec='yellow')\n",
        "\n",
        "plt.grid()\n",
        "\n",
        "plt.xlim(-5,5)\n",
        "plt.ylim(-5,5)\n",
        "\n",
        "plt.title('Initial Car Position (black) and final car position (red) ?',fontsize=10)\n",
        "\n",
        "plt.savefig('Initial Car Position (black) and final car position (red).png', bbox_inches='tight')\n",
        "plt.show()\n",
        "plt.close()"
      ],
      "execution_count": 0,
      "outputs": []
    },
    {
      "cell_type": "markdown",
      "metadata": {
        "id": "oi8gu2VRTfc0",
        "colab_type": "text"
      },
      "source": [
        "# Homework 1:  Construct the transformation that allows the car to turn right by 90 degrees from location (a,b)\n",
        "Construct the single matrix $R_{a, b, 90}$ as a product of the simple matrices $T_{c,d}$ and $R_{\\phi}$ constructed above.\n",
        "\n",
        "Verify the result by applying your new matrix to the car located at various locations.\n",
        "\n",
        "Produce a plot that shows the result of the transformation on a car located in at least two different quadrants.\n"
      ]
    },
    {
      "cell_type": "code",
      "metadata": {
        "id": "wIeLNqrMQKwR",
        "colab_type": "code",
        "outputId": "83a2099f-3ba0-4367-a52b-1b73ffce956c",
        "colab": {
          "base_uri": "https://localhost:8080/",
          "height": 67
        }
      },
      "source": [
        "def RabBy90(a,b, T, R):\n",
        "  \"\"\"Return a 3x3 matrix which rotates the car at location a,b by 90 degrees.\"\"\"\n",
        "  # We have to pass in the T and R functions if we are going to use them in this function.\n",
        "  return T(a,b) * R(-90) * T(-a, -b)\n",
        "\n",
        "RabBy90(3,2, T, R)"
      ],
      "execution_count": 7,
      "outputs": [
        {
          "output_type": "execute_result",
          "data": {
            "text/plain": [
              "matrix([[ 6.123234e-17,  1.000000e+00,  1.000000e+00],\n",
              "        [-1.000000e+00,  6.123234e-17,  5.000000e+00],\n",
              "        [ 0.000000e+00,  0.000000e+00,  1.000000e+00]])"
            ]
          },
          "metadata": {
            "tags": []
          },
          "execution_count": 7
        }
      ]
    },
    {
      "cell_type": "code",
      "metadata": {
        "id": "vSDzmp-KYR0u",
        "colab_type": "code",
        "colab": {}
      },
      "source": [
        "#car 1 location at (3,2) heading toward (3,3)\n",
        "#car 2 location at (-2, -3) heading toward (-1, -3)\n",
        "\n",
        "ax = plt.axes()\n",
        "\n",
        "#car 1 old position:\n",
        "ax.arrow(car[0,0], car[1,0], NewCar[0,0] - car[0,0], NewCar[1,0]- car[1,0], head_width=0.5, head_length=0.5, fc='lightblue', ec='black')\n",
        "#car 1 new position:\n",
        "ax.arrow(2, 2, 2.0, -1, head_width=0.5, head_length=0.7, fc='lightblue', ec='red')\n",
        "\n",
        "#car 2 old position:\n",
        "ax.arrow(2, 2, 2.0, -1, head_width=0.5, head_length=0.7, fc='lightblue', ec='red')\n",
        "#car 2 new position:\n",
        "ax.arrow(2, 2, 2.0, -1, head_width=0.5, head_length=0.7, fc='lightblue', ec='red')\n",
        "\n",
        "\n",
        "plt.grid()\n",
        "\n",
        "plt.xlim(-5,5)\n",
        "plt.ylim(-5,5)\n",
        "\n",
        "plt.title('Showing Car rotates 90 degrees ?',fontsize=10)\n",
        "\n",
        "plt.savefig('Showing Car rotates 90 degrees.png', bbox_inches='tight')\n",
        "plt.show()\n",
        "plt.close()"
      ],
      "execution_count": 0,
      "outputs": []
    },
    {
      "cell_type": "markdown",
      "metadata": {
        "id": "viVT6qimX6U0",
        "colab_type": "text"
      },
      "source": [
        "# Homework 2:  Construct the transformation that allows the car to turn right by phi degrees from location (a,b)\n",
        "\n",
        "Construct the single matrix  $R_{a,b,phi}$  as a product of the simple matrices  $T_{c,d}$  and  $R_\\phi$  constructed above.\n",
        "\n",
        "Verify the result by applying your new matrix to the car located at various locations.\n",
        "\n",
        "Produce a plot that shows the result of the transformation on a car located in at least two different quadrants."
      ]
    },
    {
      "cell_type": "code",
      "metadata": {
        "id": "UI9gA8XgUgGl",
        "colab_type": "code",
        "colab": {}
      },
      "source": [
        "def RabByPhi(a,b,phi, T, R):\n",
        "  \"\"\"Return a 3x3 matrix which rotates the car at location a,b by phi degrees.\"\"\"\n",
        "  return T(a,b) * R(phi) * T(-a, -b)"
      ],
      "execution_count": 0,
      "outputs": []
    },
    {
      "cell_type": "code",
      "metadata": {
        "id": "duhFQStqY2DR",
        "colab_type": "code",
        "colab": {}
      },
      "source": [
        "#car 1 location at (3,2) heading toward (3,3)\n",
        "#car 2 location at (-2, -3) heading toward (-1, -3)\n",
        "#  Have one car rotate by 180? degrees, and the other rotate by some other amount of degrees.\n",
        "\n",
        "ax = plt.axes()\n",
        "\n",
        "#car 1 old position:\n",
        "ax.arrow(2, 2, 1.0, 1.0, head_width=0.5, head_length=0.7, fc='lightblue', ec='black')\n",
        "#car 1 new position:\n",
        "ax.arrow(2, 2, 2.0, -1, head_width=0.5, head_length=0.7, fc='lightblue', ec='red')\n",
        "\n",
        "#car 2 old position:\n",
        "ax.arrow(2, 2, 2.0, -1, head_width=0.5, head_length=0.7, fc='lightblue', ec='red')\n",
        "#car 2 new position:\n",
        "ax.arrow(2, 2, 2.0, -1, head_width=0.5, head_length=0.7, fc='lightblue', ec='red')\n",
        "\n",
        "\n",
        "plt.grid()\n",
        "\n",
        "plt.xlim(-5,5)\n",
        "plt.ylim(-5,5)\n",
        "\n",
        "plt.title('Showing Car rotates 90 degrees ?',fontsize=10)\n",
        "\n",
        "plt.savefig('Showing Car rotates 90 degrees.png', bbox_inches='tight')\n",
        "plt.show()\n",
        "plt.close()"
      ],
      "execution_count": 0,
      "outputs": []
    },
    {
      "cell_type": "markdown",
      "metadata": {
        "id": "EwXluSqZZIDX",
        "colab_type": "text"
      },
      "source": [
        ""
      ]
    },
    {
      "cell_type": "markdown",
      "metadata": {
        "id": "9uiX7BiQkc4b",
        "colab_type": "text"
      },
      "source": [
        "# Putting the car in the garage.\n",
        "\n",
        "With the car starting at $(3,0)$ and pointing toward $(3,1)$, we want to make the car go to $(-2,-2)$ pointing toward $(-2,-3)$.\n",
        "\n",
        "Draw the car's route out on the whiteboard, making sure to note it's location at each corner.\n",
        "\n",
        "Then, iteratively apply the matrices constructed above to verify your sequence of matrices puts the car into the garage appropriately.\n",
        "\n",
        "You may want to generate a plot of the car's position and path using the plotting code given above.\n",
        "\n"
      ]
    },
    {
      "cell_type": "code",
      "metadata": {
        "id": "6rf8U2Bhk_wa",
        "colab_type": "code",
        "colab": {}
      },
      "source": [
        "#car 1 location at (3,0) heading toward (3,1)\n",
        "#car 1 final location at (-2, -2) heading toward (-2, -3)\n",
        "\n",
        "car = location(3,0)\n",
        "light = location(3,1)\n",
        "\n",
        "#apply matrices in order to get the car and the light to the correct locations\n",
        "\n",
        "newcar = T(0,1)*RabByPhi(-2,-3,90,T,R)*T(-2,0)*RabByPhi(0,-3,-90,T,R)*T(0,-3)*RabByPhi(0,0,90,T,R)*T(-3,0)*RabByPhi(3,0,90,T,R)*car\n",
        "\n",
        "newlight = T(0,1)*RabByPhi(-2,-3,90,T,R)*T(-2,0)*RabByPhi(0,-3,-90,T,R)*T(0,-3)*RabByPhi(0,0,90,T,R)*T(-3,0)*RabByPhi(3,0,90,T,R)*light\n",
        "\n",
        "simple = np.matrix([[-1,0,1],[0,-1,-2],[0,0,1]])*light\n",
        "\n",
        "simple"
      ],
      "execution_count": 0,
      "outputs": []
    },
    {
      "cell_type": "markdown",
      "metadata": {
        "id": "sGRmNznBlAFL",
        "colab_type": "text"
      },
      "source": [
        "Once you have verified you've completed this task, create the single matrix from all of your transformations:\n"
      ]
    },
    {
      "cell_type": "code",
      "metadata": {
        "id": "aJCtEa3elH_w",
        "colab_type": "code",
        "outputId": "b90d5376-6215-4371-b7a4-bddb4bed1e21",
        "colab": {
          "base_uri": "https://localhost:8080/",
          "height": 67
        }
      },
      "source": [
        "#create the full matrix as either a function or as a multiplication of matrices\n",
        "full = T(0,1)*RabByPhi(-2,-3,90,T,R)*T(-2,0)*RabByPhi(0,-3,-90,T,R)*T(0,-3)*RabByPhi(0,0,90,T,R)*T(-3,0)*RabByPhi(3,0,90,T,R)\n",
        "#fullmatrix\n",
        "\n",
        "def fullMatrix(a,b, T, R):\n",
        "  \"\"\"Describe this matrix\"\"\"\n",
        "  # We have to pass in the T and R functions if we are going to use them in this function.\n",
        "  return T(a,b) * R(180) * T(-a, -b)\n",
        "\n",
        "car = location(3,0)\n",
        "\n",
        "fullMatrix(3,0, T, R)*car\n",
        "\n",
        "\n"
      ],
      "execution_count": 13,
      "outputs": [
        {
          "output_type": "execute_result",
          "data": {
            "text/plain": [
              "matrix([[-7.],\n",
              "        [-4.],\n",
              "        [ 1.]])"
            ]
          },
          "metadata": {
            "tags": []
          },
          "execution_count": 13
        }
      ]
    },
    {
      "cell_type": "code",
      "metadata": {
        "id": "oKnhjUqXCgDE",
        "colab_type": "code",
        "colab": {}
      },
      "source": [
        ""
      ],
      "execution_count": 0,
      "outputs": []
    }
  ]
}